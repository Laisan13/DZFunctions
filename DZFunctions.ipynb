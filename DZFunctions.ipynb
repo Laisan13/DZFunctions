{
 "cells": [
  {
   "cell_type": "markdown",
   "metadata": {},
   "source": [
    "Задание 1. Пункт 1. Пользователь по команде \"p\" может узнать владельца документа по его номеру"
   ]
  },
  {
   "cell_type": "code",
   "execution_count": 1,
   "metadata": {},
   "outputs": [
    {
     "name": "stdout",
     "output_type": "stream",
     "text": [
      "Введите команду:p\n",
      "Введите номер документа:1006\n",
      "Документ не найден в базе\n"
     ]
    }
   ],
   "source": [
    "documents_ = [{'type': 'passport', 'number': '2207 876234', 'name': 'Василий Гупкин'},{'type': 'invoice', 'number': '11-2', 'name': 'Геннадий Покемонов'},\n",
    " {'type': 'insurance', 'number': '10006', 'name': 'Аристарх Павлов'}]\n",
    "def find_owner(documents):\n",
    "    documents_dict = {}\n",
    "    p = (input(\"Введите команду:\"))\n",
    "    while p != \"p\":\n",
    "        print(\"Введен неверный код\")\n",
    "        p = (input(\"Введите команду:\"))\n",
    "    num  = input(\"Введите номер документа:\" )\n",
    "    for document in documents:\n",
    "        for key in document.keys():\n",
    "            documents_dict[document['number'].replace(' ', '')] = document['name']\n",
    "    if num  not in documents_dict.keys():\n",
    "        return print( \"Документ не найден в базе\")\n",
    "    elif num in documents_dict.keys():\n",
    "        return print(f'Владелец документа:{documents_dict[num]}')\n",
    "        \n",
    "find_owner(documents_)"
   ]
  },
  {
   "cell_type": "code",
   "execution_count": 2,
   "metadata": {},
   "outputs": [
    {
     "name": "stdout",
     "output_type": "stream",
     "text": [
      "Введите команду:p\n",
      "Введите номер документа:2002\n",
      "Владелец документа:Ляйсан\n"
     ]
    }
   ],
   "source": [
    "documentsi = [{'type': 'passport', 'number': '2207 876234', 'name': 'Василий Гупкин'},{'type': 'invoice', 'number': '11-2', 'name': 'Геннадий Покемонов'},\n",
    " {'type': 'insurance', 'number': '10006', 'name': 'Аристарх Павлов'},{'type': 'insurance', 'number': '2002', 'name': 'Ляйсан'}]\n",
    "find_owner(documentsi)"
   ]
  },
  {
   "cell_type": "markdown",
   "metadata": {},
   "source": [
    "Задание 1. Пункт 2. Пользователь по команде \"s\" может по номеру документа узнать на какой полке он хранится"
   ]
  },
  {
   "cell_type": "code",
   "execution_count": 8,
   "metadata": {},
   "outputs": [
    {
     "name": "stdout",
     "output_type": "stream",
     "text": [
      "Введите команду:s\n",
      "Введите номер документа:11-2\n",
      "Документ хранится на полке: 1\n"
     ]
    }
   ],
   "source": [
    "directories = {'1': ['2207 876234', '11-2'], '2': ['10006'], '3': []}\n",
    "def find_directories(directories):\n",
    "    s = (input(\"Введите команду:\"))\n",
    "    while s != \"s\":\n",
    "        print(\"Введен неверный код\")\n",
    "        s = (input(\"Введите команду:\"))\n",
    "    num = input(\"Введите номер документа:\" )\n",
    "    for key,values in directories.items():\n",
    "        if num in directories[key]:\n",
    "            return print(f\"Документ хранится на полке: {key}\")\n",
    "        else:\n",
    "            continue\n",
    "    return  print(\"Документ не найден в базе\")      \n",
    "    \n",
    "find_directories(directories)\n"
   ]
  },
  {
   "cell_type": "markdown",
   "metadata": {},
   "source": [
    "Задание 1.Пункт 3. Пользователь по команде \"l\" может увидеть полную информацию по всем документам¶"
   ]
  },
  {
   "cell_type": "code",
   "execution_count": 10,
   "metadata": {},
   "outputs": [
    {
     "name": "stdout",
     "output_type": "stream",
     "text": [
      "Введите команду:l\n",
      "№ 2207 876234 тип: passport владелец: Василий Гупкин полка хранения: 1\n",
      "№ 11-2 тип: invoice владелец: Геннадий Покемонов полка хранения: 1\n",
      "№ 10006 тип: insurance владелец: Аристарх Павлов полка хранения: 2\n"
     ]
    }
   ],
   "source": [
    "documents = [{'type': 'passport', 'number': '2207 876234', 'name': 'Василий Гупкин'},{'type': 'invoice', 'number': '11-2', 'name': 'Геннадий Покемонов'},\n",
    " {'type': 'insurance', 'number': '10006', 'name': 'Аристарх Павлов'}]\n",
    "directories = {'1': ['2207 876234', '11-2'], '2': ['10006'], '3': []}\n",
    "def full_info(documents, directories):\n",
    "    l = (input(\"Введите команду:\"))\n",
    "    while l != \"l\":\n",
    "        print(\"Введен неверный код\")\n",
    "        l = (input(\"Введите команду:\"))\n",
    "    for i in range(len(documents)):\n",
    "        num = documents[i]['number']\n",
    "        for key,values in directories.items():\n",
    "            if num in directories[key]:\n",
    "                print(f\"№ {num} тип: {documents[i]['type']} владелец: {documents[i]['name']} полка хранения: {key}\")\n",
    "    return  \n",
    "\n",
    "full_info(documents, directories)                         \n"
   ]
  },
  {
   "cell_type": "markdown",
   "metadata": {},
   "source": [
    "Задание 1. Пункт 4. Пользователь по команде \"ads\" может добавить новую полку¶"
   ]
  },
  {
   "cell_type": "code",
   "execution_count": 8,
   "metadata": {},
   "outputs": [
    {
     "name": "stdout",
     "output_type": "stream",
     "text": [
      "Введите команду:ads\n",
      "Введите номер полки:2\n",
      " Такая полка уже существует \n",
      " Текущий уровень полок: \n",
      "1 2 3 "
     ]
    }
   ],
   "source": [
    "directories = {'1': ['2207 876234', '11-2'], '2': ['10006'], '3': []}\n",
    "def add_directori (directories):\n",
    "    ads = (input(\"Введите команду:\"))\n",
    "    while ads != \"ads\":\n",
    "        print(\"Введен неверный код\")\n",
    "        ads = (input(\"Введите команду:\"))\n",
    "    num  = input(\"Введите номер полки:\" )\n",
    "    if num in directories.keys():\n",
    "        print(\" Такая полка уже существует \")\n",
    "        print(\" Текущий уровень полок: \")\n",
    "        res = ([print(key, end=' ') for key in directories.keys()])\n",
    "    elif num not in directories.keys():\n",
    "        print(\"Полка добавлена\")\n",
    "        directories[num] = []\n",
    "        print(\" Текущий уровень полок: \")\n",
    "        res = ([print(key, end=' ') for key in directories.keys()])\n",
    "    else:\n",
    "        return print(\" Пока \")\n",
    "    \n",
    "    \n",
    "\n",
    "add_directori (directories)    \n",
    "    "
   ]
  },
  {
   "cell_type": "markdown",
   "metadata": {},
   "source": [
    "Задание 1. Пункт 5. Пользователь по команде \"ds\" может удалить существующую полку из данных (только если она пустая)"
   ]
  },
  {
   "cell_type": "code",
   "execution_count": 13,
   "metadata": {},
   "outputs": [
    {
     "name": "stdout",
     "output_type": "stream",
     "text": [
      "Введите команду:ds\n",
      "Введите номер полки:3\n",
      "Полка 3 удалена так как является пустой\n",
      " Текущий уровень полок: \n",
      "1 2 "
     ]
    }
   ],
   "source": [
    "directories = {'1': ['2207 876234', '11-2'], '2': ['10006'], '3': []}\n",
    "def del_directori(directories):\n",
    "    ds = (input(\"Введите команду:\"))\n",
    "    while ds != \"ds\":\n",
    "        print(\"Введен неверный код\")\n",
    "        ds = (input(\"Введите команду:\"))\n",
    "    num  = input(\"Введите номер полки:\" )\n",
    "    if num in directories.keys() and len(directories[num]) == 0:\n",
    "        del directories[num]\n",
    "        print(f'Полка {num} удалена так как является пустой')\n",
    "        print(\" Текущий уровень полок: \")\n",
    "        res = ([print(key, end=' ') for key in directories.keys()])\n",
    "    elif num in directories.keys() and len(directories[num]) != 0:\n",
    "        print(f'На полке {num} хранятся документы,удалите их или сохраните перед удалением полки')\n",
    "        print(\" Текущий уровень полок: \")\n",
    "        res = ([print(key, end=' ') for key in directories.keys()])\n",
    "    elif num not in directories.keys():\n",
    "        print('Такой полки не существует')\n",
    "        print(\" Текущий уровень полок: \")\n",
    "        res = ([print(key, end=' ') for key in directories.keys()])\n",
    "    else:\n",
    "        return print(\" Пока \")   \n",
    "\n",
    "del_directori(directories)"
   ]
  }
 ],
 "metadata": {
  "kernelspec": {
   "display_name": "Python 3",
   "language": "python",
   "name": "python3"
  },
  "language_info": {
   "codemirror_mode": {
    "name": "ipython",
    "version": 3
   },
   "file_extension": ".py",
   "mimetype": "text/x-python",
   "name": "python",
   "nbconvert_exporter": "python",
   "pygments_lexer": "ipython3",
   "version": "3.8.5"
  }
 },
 "nbformat": 4,
 "nbformat_minor": 4
}
